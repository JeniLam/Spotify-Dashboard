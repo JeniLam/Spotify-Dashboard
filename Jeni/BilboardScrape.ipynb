{
 "cells": [
  {
   "cell_type": "code",
   "execution_count": 1,
   "metadata": {},
   "outputs": [],
   "source": [
    "import pandas as pd"
   ]
  },
  {
   "cell_type": "code",
   "execution_count": 5,
   "metadata": {},
   "outputs": [],
   "source": [
    "url_2010 = 'https://en.wikipedia.org/wiki/Billboard_Year-End_Hot_100_singles_of_2010'\n",
    "url_2011 = 'https://en.wikipedia.org/wiki/Billboard_Year-End_Hot_100_singles_of_2011'\n",
    "url_2012 = 'https://en.wikipedia.org/wiki/Billboard_Year-End_Hot_100_singles_of_2012'\n",
    "url_2013 = 'https://en.wikipedia.org/wiki/Billboard_Year-End_Hot_100_singles_of_2013'\n",
    "url_2014 = 'https://en.wikipedia.org/wiki/Billboard_Year-End_Hot_100_singles_of_2014'\n",
    "url_2015 = 'https://en.wikipedia.org/wiki/Billboard_Year-End_Hot_100_singles_of_2015'\n",
    "url_2016 = 'https://en.wikipedia.org/wiki/Billboard_Year-End_Hot_100_singles_of_2016'\n",
    "url_2017 = 'https://en.wikipedia.org/wiki/Billboard_Year-End_Hot_100_singles_of_2017'\n",
    "url_2018 = 'https://en.wikipedia.org/wiki/Billboard_Year-End_Hot_100_singles_of_2018'\n",
    "url_2019 = 'https://en.wikipedia.org/wiki/Billboard_Year-End_Hot_100_singles_of_2019'"
   ]
  },
  {
   "cell_type": "code",
   "execution_count": 6,
   "metadata": {},
   "outputs": [
    {
     "data": {
      "text/plain": [
       "[    No.                               Title                        Artist(s)\n",
       " 0     1                           \"Tik Tok\"                            Kesha\n",
       " 1     2                      \"Need You Now\"                  Lady Antebellum\n",
       " 2     3                  \"Hey, Soul Sister\"                            Train\n",
       " 3     4                  \"California Gurls\"  Katy Perry featuring Snoop Dogg\n",
       " 4     5                               \"OMG\"        Usher featuring will.i.am\n",
       " ..  ...                                 ...                              ...\n",
       " 95   96                    \"Life After You\"                         Daughtry\n",
       " 96   97                             \"Smile\"                    Uncle Kracker\n",
       " 97   98            \"Teach Me How to Dougie\"               Cali Swag District\n",
       " 98   99  \"Try Sleeping with a Broken Heart\"                      Alicia Keys\n",
       " 99  100                      \"Lover, Lover\"                   Jerrod Niemann\n",
       " \n",
       " [100 rows x 3 columns],\n",
       "   .mw-parser-output .navbar{display:inline;font-size:88%;font-weight:normal}.mw-parser-output .navbar-collapse{float:left;text-align:left}.mw-parser-output .navbar-boxtext{word-spacing:0}.mw-parser-output .navbar ul{display:inline-block;white-space:nowrap;line-height:inherit}.mw-parser-output .navbar-brackets::before{margin-right:-0.125em;content:\"[ \"}.mw-parser-output .navbar-brackets::after{margin-left:-0.125em;content:\" ]\"}.mw-parser-output .navbar li{word-spacing:-0.125em}.mw-parser-output .navbar-mini abbr{font-variant:small-caps;border-bottom:none;text-decoration:none;cursor:inherit}.mw-parser-output .navbar-ct-full{font-size:114%;margin:0 7em}.mw-parser-output .navbar-ct-mini{font-size:114%;margin:0 4em}.mw-parser-output .infobox .navbar{font-size:100%}.mw-parser-output .navbox .navbar{display:block;font-size:100%}.mw-parser-output .navbox-title .navbar{float:left;text-align:left;margin-right:0.5em}vteBillboard Year-End Hot 100 singles  \\\n",
       " 0                                          1940–1949                                                                                                                                                                                                                                                                                                                                                                                                                                                                                                                                                                                                                                                                                                                                                                                                                                                                                                                                           \n",
       " 1                                          1950–1969                                                                                                                                                                                                                                                                                                                                                                                                                                                                                                                                                                                                                                                                                                                                                                                                                                                                                                                                           \n",
       " 2                                          1970–1989                                                                                                                                                                                                                                                                                                                                                                                                                                                                                                                                                                                                                                                                                                                                                                                                                                                                                                                                           \n",
       " 3                                          1990–2009                                                                                                                                                                                                                                                                                                                                                                                                                                                                                                                                                                                                                                                                                                                                                                                                                                                                                                                                           \n",
       " 4                                       2010–present                                                                                                                                                                                                                                                                                                                                                                                                                                                                                                                                                                                                                                                                                                                                                                                                                                                                                                                                           \n",
       " \n",
       "   .mw-parser-output .navbar{display:inline;font-size:88%;font-weight:normal}.mw-parser-output .navbar-collapse{float:left;text-align:left}.mw-parser-output .navbar-boxtext{word-spacing:0}.mw-parser-output .navbar ul{display:inline-block;white-space:nowrap;line-height:inherit}.mw-parser-output .navbar-brackets::before{margin-right:-0.125em;content:\"[ \"}.mw-parser-output .navbar-brackets::after{margin-left:-0.125em;content:\" ]\"}.mw-parser-output .navbar li{word-spacing:-0.125em}.mw-parser-output .navbar-mini abbr{font-variant:small-caps;border-bottom:none;text-decoration:none;cursor:inherit}.mw-parser-output .navbar-ct-full{font-size:114%;margin:0 7em}.mw-parser-output .navbar-ct-mini{font-size:114%;margin:0 4em}.mw-parser-output .infobox .navbar{font-size:100%}.mw-parser-output .navbox .navbar{display:block;font-size:100%}.mw-parser-output .navbox-title .navbar{float:left;text-align:left;margin-right:0.5em}vteBillboard Year-End Hot 100 singles.1  \n",
       " 0                                1946 1947 1948 1949                                                                                                                                                                                                                                                                                                                                                                                                                                                                                                                                                                                                                                                                                                                                                                                                                                                                                                                                            \n",
       " 1  1950 1951 1952 1953 1954 1955 1956 1957 1958 1...                                                                                                                                                                                                                                                                                                                                                                                                                                                                                                                                                                                                                                                                                                                                                                                                                                                                                                                                            \n",
       " 2  1970 1971 1972 1973 1974 1975 1976 1977 1978 1...                                                                                                                                                                                                                                                                                                                                                                                                                                                                                                                                                                                                                                                                                                                                                                                                                                                                                                                                            \n",
       " 3  1990 1991 1992 1993 1994 1995 1996 1997 1998 1...                                                                                                                                                                                                                                                                                                                                                                                                                                                                                                                                                                                                                                                                                                                                                                                                                                                                                                                                            \n",
       " 4  2010 2011 2012 2013 2014 2015 2016 2017 2018 2...                                                                                                                                                                                                                                                                                                                                                                                                                                                                                                                                                                                                                                                                                                                                                                                                                                                                                                                                            ]"
      ]
     },
     "execution_count": 6,
     "metadata": {},
     "output_type": "execute_result"
    }
   ],
   "source": [
    "table_2010 = pd.read_html(url_2010)\n",
    "table_2010"
   ]
  },
  {
   "cell_type": "code",
   "execution_count": 8,
   "metadata": {},
   "outputs": [
    {
     "data": {
      "text/html": [
       "<div>\n",
       "<style scoped>\n",
       "    .dataframe tbody tr th:only-of-type {\n",
       "        vertical-align: middle;\n",
       "    }\n",
       "\n",
       "    .dataframe tbody tr th {\n",
       "        vertical-align: top;\n",
       "    }\n",
       "\n",
       "    .dataframe thead th {\n",
       "        text-align: right;\n",
       "    }\n",
       "</style>\n",
       "<table border=\"1\" class=\"dataframe\">\n",
       "  <thead>\n",
       "    <tr style=\"text-align: right;\">\n",
       "      <th></th>\n",
       "      <th>No.</th>\n",
       "      <th>Title</th>\n",
       "      <th>Artist(s)</th>\n",
       "    </tr>\n",
       "  </thead>\n",
       "  <tbody>\n",
       "    <tr>\n",
       "      <th>0</th>\n",
       "      <td>1</td>\n",
       "      <td>\"Tik Tok\"</td>\n",
       "      <td>Kesha</td>\n",
       "    </tr>\n",
       "    <tr>\n",
       "      <th>1</th>\n",
       "      <td>2</td>\n",
       "      <td>\"Need You Now\"</td>\n",
       "      <td>Lady Antebellum</td>\n",
       "    </tr>\n",
       "    <tr>\n",
       "      <th>2</th>\n",
       "      <td>3</td>\n",
       "      <td>\"Hey, Soul Sister\"</td>\n",
       "      <td>Train</td>\n",
       "    </tr>\n",
       "    <tr>\n",
       "      <th>3</th>\n",
       "      <td>4</td>\n",
       "      <td>\"California Gurls\"</td>\n",
       "      <td>Katy Perry featuring Snoop Dogg</td>\n",
       "    </tr>\n",
       "    <tr>\n",
       "      <th>4</th>\n",
       "      <td>5</td>\n",
       "      <td>\"OMG\"</td>\n",
       "      <td>Usher featuring will.i.am</td>\n",
       "    </tr>\n",
       "  </tbody>\n",
       "</table>\n",
       "</div>"
      ],
      "text/plain": [
       "   No.               Title                        Artist(s)\n",
       "0    1           \"Tik Tok\"                            Kesha\n",
       "1    2      \"Need You Now\"                  Lady Antebellum\n",
       "2    3  \"Hey, Soul Sister\"                            Train\n",
       "3    4  \"California Gurls\"  Katy Perry featuring Snoop Dogg\n",
       "4    5               \"OMG\"        Usher featuring will.i.am"
      ]
     },
     "execution_count": 8,
     "metadata": {},
     "output_type": "execute_result"
    }
   ],
   "source": [
    "df_2010 = table_2010[0]\n",
    "df_2010.head()"
   ]
  },
  {
   "cell_type": "code",
   "execution_count": null,
   "metadata": {},
   "outputs": [],
   "source": []
  }
 ],
 "metadata": {
  "kernelspec": {
   "display_name": "Python 3",
   "language": "python",
   "name": "python3"
  },
  "language_info": {
   "codemirror_mode": {
    "name": "ipython",
    "version": 3
   },
   "file_extension": ".py",
   "mimetype": "text/x-python",
   "name": "python",
   "nbconvert_exporter": "python",
   "pygments_lexer": "ipython3",
   "version": "3.8.3"
  }
 },
 "nbformat": 4,
 "nbformat_minor": 4
}
